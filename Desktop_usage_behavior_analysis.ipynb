{
 "cells": [
  {
   "cell_type": "markdown",
   "metadata": {},
   "source": [
    "# Desktop Usage and Behavior Data Analysis - August 2019 #"
   ]
  },
  {
   "cell_type": "markdown",
   "metadata": {},
   "source": [
    "Purpose: We would like to begin to develop an understanding of the usage/behavior of various elements on the desktop site as we start to think about improvements we can make to the desktop experience. \n",
    "\n",
    "[Task](https://phabricator.wikimedia.org/T229926)"
   ]
  },
  {
   "cell_type": "code",
   "execution_count": 112,
   "metadata": {},
   "outputs": [
    {
     "data": {
      "text/html": [
       "<script>  \n",
       "code_show=true; \n",
       "function code_toggle() {\n",
       "  if (code_show){\n",
       "    $('div.input').hide();\n",
       "  } else {\n",
       "    $('div.input').show();\n",
       "  }\n",
       "  code_show = !code_show\n",
       "}  \n",
       "$( document ).ready(code_toggle);\n",
       "</script>\n",
       "  <form action=\"javascript:code_toggle()\">\n",
       "    <input type=\"submit\" value=\"Click here to toggle on/off the raw code.\">\n",
       " </form>"
      ]
     },
     "metadata": {},
     "output_type": "display_data"
    }
   ],
   "source": [
    "library(IRdisplay)\n",
    "\n",
    "display_html(\n",
    "'<script>  \n",
    "code_show=true; \n",
    "function code_toggle() {\n",
    "  if (code_show){\n",
    "    $(\\'div.input\\').hide();\n",
    "  } else {\n",
    "    $(\\'div.input\\').show();\n",
    "  }\n",
    "  code_show = !code_show\n",
    "}  \n",
    "$( document ).ready(code_toggle);\n",
    "</script>\n",
    "  <form action=\"javascript:code_toggle()\">\n",
    "    <input type=\"submit\" value=\"Click here to toggle on/off the raw code.\">\n",
    " </form>'\n",
    ")"
   ]
  },
  {
   "cell_type": "code",
   "execution_count": 2,
   "metadata": {},
   "outputs": [],
   "source": [
    "shhh <- function(expr) suppressPackageStartupMessages(suppressWarnings(suppressMessages(expr)))\n",
    "shhh({\n",
    "    library(magrittr); library(zeallot); library(glue); library(tidyverse); library(glue); library(lubridate)\n",
    "    library(scales)\n",
    "})"
   ]
  },
  {
   "cell_type": "markdown",
   "metadata": {},
   "source": [
    "##  Search ##"
   ]
  },
  {
   "cell_type": "markdown",
   "metadata": {},
   "source": [
    "**Data questions**: \n",
    "* what percentage of users use search? \n",
    "* How many searches do users of search perform per session?\n",
    "\n",
    "Audiences: logged-in users, logged-out users\n",
    "\n",
    "Why this is relevant: currently search is a relatively small element on the page, and is only accessible from the top of the page (i.e. you can't perform a search if you're scrolled down, reading an article). We're curious if people have difficulty finding search, or perhaps just don't think of searching the site because they don't notice it.\n",
    "\n",
    "Notes: Data from [searchsatisfaction](https://meta.wikimedia.org/wiki/Schema:SearchSatisfaction) eventlogging table and webrequest. Data is from August 2019 and for desktop users across all projects. Search events include both full text and autocomplete searches.\n"
   ]
  },
  {
   "cell_type": "markdown",
   "metadata": {},
   "source": [
    "### 1. What percentage of users use search? ###"
   ]
  },
  {
   "cell_type": "markdown",
   "metadata": {},
   "source": [
    "Notes: Unique users defined by client_ip and user agent."
   ]
  },
  {
   "cell_type": "code",
   "execution_count": 3,
   "metadata": {},
   "outputs": [],
   "source": [
    "# collect number of distinct users that used search\n",
    "query <- \n",
    "\"SELECT\n",
    "  date,\n",
    "  COUNT(DISTINCT CONCAT(client_ip, user_agent, query)) AS n_search,\n",
    "  COUNT(DISTINCT CONCAT(client_ip, user_agent)) AS n_user,\n",
    "  logged_in\n",
    "FROM (\n",
    "  SELECT \n",
    "    CONCAT(year, '-', LPAD(month, 2, '0'), '-', LPAD(day, 2, '0')) AS date,\n",
    "    access_method,\n",
    "    client_ip, \n",
    "    user_agent,\n",
    "    IF(x_analytics_map['loggedIn'] = '1', true, false) as logged_in,\n",
    "    PARSE_URL(CONCAT('http://', uri_host, uri_path, uri_query), 'QUERY', 'search') AS query,\n",
    "    PARSE_URL(CONCAT('http://', uri_host, uri_path, uri_query), 'QUERY', 'searchToken') AS searchToken\n",
    "  FROM wmf.webrequest TABLESAMPLE(BUCKET 1 OUT OF 1024 ON hostname, sequence)\n",
    "  WHERE year = 2019 AND month = 08\n",
    "    AND webrequest_source = 'text'\n",
    "    AND access_method = 'desktop'\n",
    "    AND agent_type = 'user'\n",
    "    AND is_pageview\n",
    "    -- flag for pageviews that are search results pages\n",
    "    AND page_id IS NULL\n",
    "    AND (\n",
    "      uri_path = '/wiki/Special:Search'\n",
    "      OR (\n",
    "        uri_path = '/w/index.php'\n",
    "        AND (\n",
    "          LENGTH(PARSE_URL(CONCAT('http://', uri_host, uri_path, uri_query), 'QUERY', 'search')) > 0\n",
    "          OR LENGTH(PARSE_URL(CONCAT('http://', uri_host, uri_path, uri_query), 'QUERY', 'searchToken')) > 0\n",
    "        )\n",
    "      )\n",
    "    )\n",
    ") AS serp\n",
    "GROUP BY date, logged_in;\""
   ]
  },
  {
   "cell_type": "code",
   "execution_count": 4,
   "metadata": {},
   "outputs": [],
   "source": [
    "search_events_byuser <- wmf::query_hive(query)"
   ]
  },
  {
   "cell_type": "code",
   "execution_count": 5,
   "metadata": {},
   "outputs": [],
   "source": [
    "search_events_byuser$date <- as.Date(search_events_byuser$date, format = \"%Y-%m-%d\")"
   ]
  },
  {
   "cell_type": "code",
   "execution_count": 6,
   "metadata": {
    "scrolled": true
   },
   "outputs": [
    {
     "data": {
      "image/png": "[encoded data removed]",
      "text/plain": [
       "plot without title"
      ]
     },
     "metadata": {},
     "output_type": "display_data"
    }
   ],
   "source": [
    "# Plot daily total search and sessions for August 2019\n",
    "search_events_byuser_daily <- search_events_byuser %>%\n",
    "  gather(type, count, n_search:n_user) %>%\n",
    "group_by(date, type) %>%\n",
    "summarise(count = sum(count)) %>%\n",
    "  ggplot(aes(x=date, y= count, color= type)) +\n",
    "  geom_line() +\n",
    "  scale_x_date(name = \"Date\") +\n",
    "  scale_y_continuous(labels = polloi::compress, name = \"Daily Count\") +\n",
    "         labs(title = \"Daily number of desktop searches\") +\n",
    "         wmf::theme_min() \n",
    "         \n",
    "search_events_byuser_daily"
   ]
  },
  {
   "cell_type": "code",
   "execution_count": 7,
   "metadata": {
    "scrolled": true
   },
   "outputs": [
    {
     "data": {
      "text/html": [
       "<table>\n",
       "<caption>A tibble: 2 × 2</caption>\n",
       "<thead>\n",
       "\t<tr><th scope=col>logged_in</th><th scope=col>total_users</th></tr>\n",
       "\t<tr><th scope=col>&lt;chr&gt;</th><th scope=col>&lt;int&gt;</th></tr>\n",
       "</thead>\n",
       "<tbody>\n",
       "\t<tr><td>false</td><td>59139</td></tr>\n",
       "\t<tr><td>true </td><td> 2458</td></tr>\n",
       "</tbody>\n",
       "</table>\n"
      ],
      "text/latex": [
       "A tibble: 2 × 2\n",
       "\\begin{tabular}{r|ll}\n",
       " logged\\_in & total\\_users\\\\\n",
       " <chr> & <int>\\\\\n",
       "\\hline\n",
       "\t false & 59139\\\\\n",
       "\t true  &  2458\\\\\n",
       "\\end{tabular}\n"
      ],
      "text/markdown": [
       "\n",
       "A tibble: 2 × 2\n",
       "\n",
       "| logged_in &lt;chr&gt; | total_users &lt;int&gt; |\n",
       "|---|---|\n",
       "| false | 59139 |\n",
       "| true  |  2458 |\n",
       "\n"
      ],
      "text/plain": [
       "  logged_in total_users\n",
       "1 false     59139      \n",
       "2 true       2458      "
      ]
     },
     "metadata": {},
     "output_type": "display_data"
    }
   ],
   "source": [
    "#total number of logged in and logged out users from sample\n",
    "search_events_byuser_total <- search_events_byuser %>%\n",
    "group_by(logged_in) %>%\n",
    "summarise(total_users = sum(n_user))\n",
    "\n",
    "search_events_byuser_total"
   ]
  },
  {
   "cell_type": "code",
   "execution_count": 8,
   "metadata": {},
   "outputs": [],
   "source": [
    "# Number of overall users (apporximated by client ip and user client)\n",
    "query <-\n",
    "\"SELECT COUNT(DISTINCT CONCAT(client_ip, user_agent)) as n_user,\n",
    "logged_in\n",
    "FROM (\n",
    "SELECT \n",
    "client_ip,\n",
    "user_agent,\n",
    "IF(x_analytics_map['loggedIn'] = '1', true, false) as logged_in\n",
    "FROM wmf.webrequest TABLESAMPLE(BUCKET 1 OUT OF 1024 ON hostname, sequence)\n",
    "WHERE year = 2019 and month = 8\n",
    "  AND agent_type = 'user'\n",
    "  AND access_method = 'desktop'\n",
    "  AND webrequest_source = 'text'\n",
    "  AND is_pageview\n",
    ") as dataset\n",
    "GROUP BY logged_in\""
   ]
  },
  {
   "cell_type": "code",
   "execution_count": 9,
   "metadata": {},
   "outputs": [],
   "source": [
    "total_users_August <- wmf::query_hive(query)"
   ]
  },
  {
   "cell_type": "code",
   "execution_count": 10,
   "metadata": {},
   "outputs": [
    {
     "data": {
      "text/html": [
       "<table>\n",
       "<caption>A data.frame: 2 × 2</caption>\n",
       "<thead>\n",
       "\t<tr><th scope=col>n_user</th><th scope=col>logged_in</th></tr>\n",
       "\t<tr><th scope=col>&lt;int&gt;</th><th scope=col>&lt;chr&gt;</th></tr>\n",
       "</thead>\n",
       "<tbody>\n",
       "\t<tr><td>4065669</td><td>false</td></tr>\n",
       "\t<tr><td>  90805</td><td>true </td></tr>\n",
       "</tbody>\n",
       "</table>\n"
      ],
      "text/latex": [
       "A data.frame: 2 × 2\n",
       "\\begin{tabular}{r|ll}\n",
       " n\\_user & logged\\_in\\\\\n",
       " <int> & <chr>\\\\\n",
       "\\hline\n",
       "\t 4065669 & false\\\\\n",
       "\t   90805 & true \\\\\n",
       "\\end{tabular}\n"
      ],
      "text/markdown": [
       "\n",
       "A data.frame: 2 × 2\n",
       "\n",
       "| n_user &lt;int&gt; | logged_in &lt;chr&gt; |\n",
       "|---|---|\n",
       "| 4065669 | false |\n",
       "|   90805 | true  |\n",
       "\n"
      ],
      "text/plain": [
       "  n_user  logged_in\n",
       "1 4065669 false    \n",
       "2   90805 true     "
      ]
     },
     "metadata": {},
     "output_type": "display_data"
    }
   ],
   "source": [
    "total_users_August"
   ]
  },
  {
   "cell_type": "markdown",
   "metadata": {},
   "source": [
    "About 1.4% of logged out desktop users and about 2.7% of logged in desktop users use search based on sample from August 2019."
   ]
  },
  {
   "cell_type": "markdown",
   "metadata": {},
   "source": [
    "### 2. How many searches do users of search perform per search session?? "
   ]
  },
  {
   "cell_type": "code",
   "execution_count": 42,
   "metadata": {},
   "outputs": [],
   "source": [
    "# query for average search sessions. \n",
    "query <- \"\n",
    "SELECT\n",
    "   CONCAT(year,'-',LPAD(month,2,'0'),'-',LPAD(day,2,'0')) as date,\n",
    "  event.searchSessionId as session_id,\n",
    "  sum(if(event.action='searchResultPage',1,0)) as n_search\n",
    "FROM event.SearchSatisfaction\n",
    "WHERE year = 2019 and month = 08 and day > 05 -- when events were logged to new schema.\n",
    "AND useragent.is_bot = FALSE\n",
    "AND event.action = 'searchResultPage'\n",
    "group by year, month, day, event.searchSessionId\n",
    "\""
   ]
  },
  {
   "cell_type": "code",
   "execution_count": 43,
   "metadata": {},
   "outputs": [],
   "source": [
    "search_events_bysession <- wmf::query_hive(query)"
   ]
  },
  {
   "cell_type": "code",
   "execution_count": 45,
   "metadata": {},
   "outputs": [],
   "source": [
    "search_events_bysession$date <- as.Date(search_events_bysession$date, format = \"%Y-%m-%d\")"
   ]
  },
  {
   "cell_type": "code",
   "execution_count": 51,
   "metadata": {},
   "outputs": [
    {
     "data": {
      "text/html": [
       "<table>\n",
       "<caption>A tibble: 6 × 2</caption>\n",
       "<thead>\n",
       "\t<tr><th scope=col>date</th><th scope=col>average_search_bysession</th></tr>\n",
       "\t<tr><th scope=col>&lt;date&gt;</th><th scope=col>&lt;dbl&gt;</th></tr>\n",
       "</thead>\n",
       "<tbody>\n",
       "\t<tr><td>2019-08-06</td><td>6.789426</td></tr>\n",
       "\t<tr><td>2019-08-07</td><td>6.801644</td></tr>\n",
       "\t<tr><td>2019-08-08</td><td>6.779381</td></tr>\n",
       "\t<tr><td>2019-08-09</td><td>6.781527</td></tr>\n",
       "\t<tr><td>2019-08-10</td><td>6.968016</td></tr>\n",
       "\t<tr><td>2019-08-11</td><td>6.958233</td></tr>\n",
       "</tbody>\n",
       "</table>\n"
      ],
      "text/latex": [
       "A tibble: 6 × 2\n",
       "\\begin{tabular}{r|ll}\n",
       " date & average\\_search\\_bysession\\\\\n",
       " <date> & <dbl>\\\\\n",
       "\\hline\n",
       "\t 2019-08-06 & 6.789426\\\\\n",
       "\t 2019-08-07 & 6.801644\\\\\n",
       "\t 2019-08-08 & 6.779381\\\\\n",
       "\t 2019-08-09 & 6.781527\\\\\n",
       "\t 2019-08-10 & 6.968016\\\\\n",
       "\t 2019-08-11 & 6.958233\\\\\n",
       "\\end{tabular}\n"
      ],
      "text/markdown": [
       "\n",
       "A tibble: 6 × 2\n",
       "\n",
       "| date &lt;date&gt; | average_search_bysession &lt;dbl&gt; |\n",
       "|---|---|\n",
       "| 2019-08-06 | 6.789426 |\n",
       "| 2019-08-07 | 6.801644 |\n",
       "| 2019-08-08 | 6.779381 |\n",
       "| 2019-08-09 | 6.781527 |\n",
       "| 2019-08-10 | 6.968016 |\n",
       "| 2019-08-11 | 6.958233 |\n",
       "\n"
      ],
      "text/plain": [
       "  date       average_search_bysession\n",
       "1 2019-08-06 6.789426                \n",
       "2 2019-08-07 6.801644                \n",
       "3 2019-08-08 6.779381                \n",
       "4 2019-08-09 6.781527                \n",
       "5 2019-08-10 6.968016                \n",
       "6 2019-08-11 6.958233                "
      ]
     },
     "metadata": {},
     "output_type": "display_data"
    }
   ],
   "source": [
    "# Find average and remove sessions with over 40 events\n",
    "search_events_bysession_average <- search_events_bysession %>%\n",
    "  filter(n_search < 40) %>%\n",
    "  group_by(date) %>%\n",
    "  summarise(average_search_bysession = mean(n_search))\n",
    "\n",
    "head(search_events_bysession_average) "
   ]
  },
  {
   "cell_type": "markdown",
   "metadata": {},
   "source": [
    "There are an average of 6.8 searches per search session on desktop looking at all wikipedias. Note. I filtered out sessions with over 50 searches as these are likely bots. "
   ]
  },
  {
   "cell_type": "code",
   "execution_count": 54,
   "metadata": {},
   "outputs": [
    {
     "data": {
      "image/png": "[encoded data removed]",
      "text/plain": [
       "plot without title"
      ]
     },
     "metadata": {},
     "output_type": "display_data"
    }
   ],
   "source": [
    "# Plot averaege daily sessions by search since 2019\n",
    "search_events_bysession_daily_plot <- search_events_bysession_average %>%\n",
    "  ggplot(aes(x=date, y= average_search_bysession)) +\n",
    "  geom_line() +\n",
    "  scale_x_date(name = \"Date\") +\n",
    "  scale_y_continuous(name = \"Average number of searches\") +\n",
    "         labs(title = \"Average daily number of desktop searches by session\") +\n",
    "         wmf::theme_min()\n",
    "\n",
    "search_events_bysession_daily_plot"
   ]
  },
  {
   "cell_type": "markdown",
   "metadata": {},
   "source": [
    "## Main Menu (Sidebar Views) \n",
    "\n",
    "**Data questions**: \n",
    "* what percentage of users use links in the sidebar? \n",
    "* What is the usage for all of the various links?\n",
    "\n",
    "**Audiences**: logged-in users, logged-out users\n",
    "\n",
    "**Why this is relevant**: we're curious about a more modular design, wherein the main menu is collapsible. It could even act different for different audiences. Knowing how often it gets used, and by whom, will inform our thinking.\n",
    "\n",
    "**Data Notes**:\n",
    "\n",
    "* Analysis based on sample from webrequest July 2019 desktop data. \n",
    "* Looking at en.wiki only \n",
    "* Donate, store and wikidata links currently excluded. Unable to track as they direct to external sites. Need instrumentation.\n",
    "* Note this is based on views to the pages linked in the sidebar from an internal referrer (within the wiki project). Clicks directly to links in the sidebar are not currently recorded, as a result, some of these views may include clicks from other locations on the website (It seems those views would be minimal though). \n",
    "\n",
    "TODO: Look into possible ways to track clicks to store and dontate links"
   ]
  },
  {
   "cell_type": "markdown",
   "metadata": {},
   "source": [
    "### What is the overall usage for all of the various links?"
   ]
  },
  {
   "cell_type": "code",
   "execution_count": null,
   "metadata": {},
   "outputs": [],
   "source": [
    "#roverall pageviews for both logged in and logged out users\n",
    "query <- \n",
    "\"SELECT \n",
    "SUM(IF((pageview_info['page_title'] = 'Main_Page'), 1, null)) AS main_page,\n",
    "  SUM(IF((pageview_info['page_title'] = 'Portal:Contents'), 1, null)) AS contents,\n",
    "  SUM(IF((pageview_info['page_title'] = 'Portal:Featured_content'), 1, null)) AS featured_content,\n",
    "  SUM(IF((pageview_info['page_title'] = 'Portal:Current_events'), 1, null)) AS current_events,\n",
    "  SUM(IF((pageview_info['page_title'] = 'Special:Random'), 1, null)) AS random_article,\n",
    "  SUM(IF((pageview_info['page_title'] = 'Help:Contents'), 1, null)) AS help_views,\n",
    "  SUM(IF((pageview_info['page_title'] = 'Wikipedia:About'), 1, null)) AS about_wikipedia,\n",
    "  SUM(IF((pageview_info['page_title'] = 'Wikipedia:Community_portal'), 1, null)) AS community_portal,\n",
    "  SUM(IF((pageview_info['page_title'] = 'Special:RecentChanges'), 1, null)) AS recent_changes,\n",
    "  SUM(IF((pageview_info['page_title']= 'Wikipedia:Contact_us'), 1, null)) AS contact_page,\n",
    "  SUM(IF((pageview_info['page_title'] LIKE 'Special:WhatLinksHere%'), 1, null)) AS what_links_here,\n",
    "  SUM(IF((pageview_info['page_title'] LIKE 'Special:RecentChangesLinked%'), 1, null)) AS related_changes,\n",
    "  SUM(IF((pageview_info['page_title'] = 'Wikipedia:File_Upload_Wizard'), 1, null)) AS file_upload,\n",
    "  SUM(IF((pageview_info['page_title'] = 'Special:SpecialPages'), 1, null)) AS special_pages,\n",
    "  SUM(IF((uri_query LIKE '%&action=info%'), 1, null)) AS page_info,\n",
    "  SUM(IF((pageview_info['page_title'] = 'Special:CiteThisPage'), 1, null)) AS cite_this_page, \n",
    "  SUM(IF((pageview_info['page_title'] = 'Special:Book'), 1, null)) AS create_book,\n",
    "  SUM(IF((pageview_info['page_title'] = 'Special:ElectronPdf'), 1, null)) AS download_as_pdf\n",
    "FROM wmf.webrequest\n",
    "WHERE year = 2019 and month = 7\n",
    "  AND agent_type = 'user'\n",
    "  AND pageview_info['project'] = 'en.wikipedia'\n",
    "  AND access_method = 'desktop'\n",
    "  AND referer_class = 'internal' --isolate to only views to these pages from within wikipedia. \n",
    "  AND is_pageview\"\n"
   ]
  },
  {
   "cell_type": "code",
   "execution_count": 30,
   "metadata": {},
   "outputs": [],
   "source": [
    "sidebar_views_overall_raw <- read.csv(file=\"Data/sidebar_views_overall.tsv\", header=TRUE, sep=\"\\t\")"
   ]
  },
  {
   "cell_type": "code",
   "execution_count": 26,
   "metadata": {},
   "outputs": [
    {
     "data": {
      "text/html": [
       "<table>\n",
       "<caption>A data.frame: 1 × 18</caption>\n",
       "<thead>\n",
       "\t<tr><th scope=col>main_page</th><th scope=col>contents</th><th scope=col>featured_content</th><th scope=col>current_events</th><th scope=col>random_article</th><th scope=col>help_views</th><th scope=col>about_wikipedia</th><th scope=col>community_portal</th><th scope=col>recent_changes</th><th scope=col>contact_page</th><th scope=col>what_links_here</th><th scope=col>related_changes</th><th scope=col>file_upload</th><th scope=col>special_pages</th><th scope=col>page_info</th><th scope=col>cite_this_page</th><th scope=col>create_book</th><th scope=col>download_as_pdf</th></tr>\n",
       "\t<tr><th scope=col>&lt;int&gt;</th><th scope=col>&lt;int&gt;</th><th scope=col>&lt;int&gt;</th><th scope=col>&lt;int&gt;</th><th scope=col>&lt;fct&gt;</th><th scope=col>&lt;int&gt;</th><th scope=col>&lt;int&gt;</th><th scope=col>&lt;int&gt;</th><th scope=col>&lt;int&gt;</th><th scope=col>&lt;int&gt;</th><th scope=col>&lt;int&gt;</th><th scope=col>&lt;int&gt;</th><th scope=col>&lt;int&gt;</th><th scope=col>&lt;int&gt;</th><th scope=col>&lt;int&gt;</th><th scope=col>&lt;int&gt;</th><th scope=col>&lt;int&gt;</th><th scope=col>&lt;int&gt;</th></tr>\n",
       "</thead>\n",
       "<tbody>\n",
       "\t<tr><td>11068094</td><td>424594</td><td>124742</td><td>741406</td><td>NULL</td><td>91465</td><td>125960</td><td>237826</td><td>476123</td><td>226885</td><td>843500</td><td>579563</td><td>95757</td><td>45432</td><td>123188</td><td>242384</td><td>258355</td><td>685032</td></tr>\n",
       "</tbody>\n",
       "</table>\n"
      ],
      "text/latex": [
       "A data.frame: 1 × 18\n",
       "\\begin{tabular}{r|llllllllllllllllll}\n",
       " main\\_page & contents & featured\\_content & current\\_events & random\\_article & help\\_views & about\\_wikipedia & community\\_portal & recent\\_changes & contact\\_page & what\\_links\\_here & related\\_changes & file\\_upload & special\\_pages & page\\_info & cite\\_this\\_page & create\\_book & download\\_as\\_pdf\\\\\n",
       " <int> & <int> & <int> & <int> & <fct> & <int> & <int> & <int> & <int> & <int> & <int> & <int> & <int> & <int> & <int> & <int> & <int> & <int>\\\\\n",
       "\\hline\n",
       "\t 11068094 & 424594 & 124742 & 741406 & NULL & 91465 & 125960 & 237826 & 476123 & 226885 & 843500 & 579563 & 95757 & 45432 & 123188 & 242384 & 258355 & 685032\\\\\n",
       "\\end{tabular}\n"
      ],
      "text/markdown": [
       "\n",
       "A data.frame: 1 × 18\n",
       "\n",
       "| main_page &lt;int&gt; | contents &lt;int&gt; | featured_content &lt;int&gt; | current_events &lt;int&gt; | random_article &lt;fct&gt; | help_views &lt;int&gt; | about_wikipedia &lt;int&gt; | community_portal &lt;int&gt; | recent_changes &lt;int&gt; | contact_page &lt;int&gt; | what_links_here &lt;int&gt; | related_changes &lt;int&gt; | file_upload &lt;int&gt; | special_pages &lt;int&gt; | page_info &lt;int&gt; | cite_this_page &lt;int&gt; | create_book &lt;int&gt; | download_as_pdf &lt;int&gt; |\n",
       "|---|---|---|---|---|---|---|---|---|---|---|---|---|---|---|---|---|---|\n",
       "| 11068094 | 424594 | 124742 | 741406 | NULL | 91465 | 125960 | 237826 | 476123 | 226885 | 843500 | 579563 | 95757 | 45432 | 123188 | 242384 | 258355 | 685032 |\n",
       "\n"
      ],
      "text/plain": [
       "  main_page contents featured_content current_events random_article help_views\n",
       "1 11068094  424594   124742           741406         NULL           91465     \n",
       "  about_wikipedia community_portal recent_changes contact_page what_links_here\n",
       "1 125960          237826           476123         226885       843500         \n",
       "  related_changes file_upload special_pages page_info cite_this_page\n",
       "1 579563          95757       45432         123188    242384        \n",
       "  create_book download_as_pdf\n",
       "1 258355      685032         "
      ]
     },
     "metadata": {},
     "output_type": "display_data"
    }
   ],
   "source": [
    "head(sidebar_views_overall_raw)"
   ]
  },
  {
   "cell_type": "code",
   "execution_count": 31,
   "metadata": {},
   "outputs": [
    {
     "data": {
      "text/html": [
       "<table>\n",
       "<caption>A data.frame: 18 × 3</caption>\n",
       "<thead>\n",
       "\t<tr><th scope=col>sidebar_link</th><th scope=col>n_views</th><th scope=col>proportion</th></tr>\n",
       "\t<tr><th scope=col>&lt;chr&gt;</th><th scope=col>&lt;int&gt;</th><th scope=col>&lt;dbl&gt;</th></tr>\n",
       "</thead>\n",
       "<tbody>\n",
       "\t<tr><td>main_page       </td><td>11068094</td><td>0.675282939</td></tr>\n",
       "\t<tr><td>what_links_here </td><td>  843500</td><td>0.051463347</td></tr>\n",
       "\t<tr><td>current_events  </td><td>  741406</td><td>0.045234421</td></tr>\n",
       "\t<tr><td>download_as_pdf </td><td>  685032</td><td>0.041794949</td></tr>\n",
       "\t<tr><td>related_changes </td><td>  579563</td><td>0.035360109</td></tr>\n",
       "\t<tr><td>recent_changes  </td><td>  476123</td><td>0.029049061</td></tr>\n",
       "\t<tr><td>contents        </td><td>  424594</td><td>0.025905191</td></tr>\n",
       "\t<tr><td>create_book     </td><td>  258355</td><td>0.015762671</td></tr>\n",
       "\t<tr><td>cite_this_page  </td><td>  242384</td><td>0.014788253</td></tr>\n",
       "\t<tr><td>community_portal</td><td>  237826</td><td>0.014510162</td></tr>\n",
       "\t<tr><td>contact_page    </td><td>  226885</td><td>0.013842634</td></tr>\n",
       "\t<tr><td>about_wikipedia </td><td>  125960</td><td>0.007685030</td></tr>\n",
       "\t<tr><td>featured_content</td><td>  124742</td><td>0.007610718</td></tr>\n",
       "\t<tr><td>page_info       </td><td>  123188</td><td>0.007515906</td></tr>\n",
       "\t<tr><td>file_upload     </td><td>   95757</td><td>0.005842295</td></tr>\n",
       "\t<tr><td>help_views      </td><td>   91465</td><td>0.005580433</td></tr>\n",
       "\t<tr><td>special_pages   </td><td>   45432</td><td>0.002771882</td></tr>\n",
       "\t<tr><td>random_article  </td><td>       0</td><td>0.000000000</td></tr>\n",
       "</tbody>\n",
       "</table>\n"
      ],
      "text/latex": [
       "A data.frame: 18 × 3\n",
       "\\begin{tabular}{r|lll}\n",
       " sidebar\\_link & n\\_views & proportion\\\\\n",
       " <chr> & <int> & <dbl>\\\\\n",
       "\\hline\n",
       "\t main\\_page        & 11068094 & 0.675282939\\\\\n",
       "\t what\\_links\\_here  &   843500 & 0.051463347\\\\\n",
       "\t current\\_events   &   741406 & 0.045234421\\\\\n",
       "\t download\\_as\\_pdf  &   685032 & 0.041794949\\\\\n",
       "\t related\\_changes  &   579563 & 0.035360109\\\\\n",
       "\t recent\\_changes   &   476123 & 0.029049061\\\\\n",
       "\t contents         &   424594 & 0.025905191\\\\\n",
       "\t create\\_book      &   258355 & 0.015762671\\\\\n",
       "\t cite\\_this\\_page   &   242384 & 0.014788253\\\\\n",
       "\t community\\_portal &   237826 & 0.014510162\\\\\n",
       "\t contact\\_page     &   226885 & 0.013842634\\\\\n",
       "\t about\\_wikipedia  &   125960 & 0.007685030\\\\\n",
       "\t featured\\_content &   124742 & 0.007610718\\\\\n",
       "\t page\\_info        &   123188 & 0.007515906\\\\\n",
       "\t file\\_upload      &    95757 & 0.005842295\\\\\n",
       "\t help\\_views       &    91465 & 0.005580433\\\\\n",
       "\t special\\_pages    &    45432 & 0.002771882\\\\\n",
       "\t random\\_article   &        0 & 0.000000000\\\\\n",
       "\\end{tabular}\n"
      ],
      "text/markdown": [
       "\n",
       "A data.frame: 18 × 3\n",
       "\n",
       "| sidebar_link &lt;chr&gt; | n_views &lt;int&gt; | proportion &lt;dbl&gt; |\n",
       "|---|---|---|\n",
       "| main_page        | 11068094 | 0.675282939 |\n",
       "| what_links_here  |   843500 | 0.051463347 |\n",
       "| current_events   |   741406 | 0.045234421 |\n",
       "| download_as_pdf  |   685032 | 0.041794949 |\n",
       "| related_changes  |   579563 | 0.035360109 |\n",
       "| recent_changes   |   476123 | 0.029049061 |\n",
       "| contents         |   424594 | 0.025905191 |\n",
       "| create_book      |   258355 | 0.015762671 |\n",
       "| cite_this_page   |   242384 | 0.014788253 |\n",
       "| community_portal |   237826 | 0.014510162 |\n",
       "| contact_page     |   226885 | 0.013842634 |\n",
       "| about_wikipedia  |   125960 | 0.007685030 |\n",
       "| featured_content |   124742 | 0.007610718 |\n",
       "| page_info        |   123188 | 0.007515906 |\n",
       "| file_upload      |    95757 | 0.005842295 |\n",
       "| help_views       |    91465 | 0.005580433 |\n",
       "| special_pages    |    45432 | 0.002771882 |\n",
       "| random_article   |        0 | 0.000000000 |\n",
       "\n"
      ],
      "text/plain": [
       "   sidebar_link     n_views  proportion \n",
       "1  main_page        11068094 0.675282939\n",
       "2  what_links_here    843500 0.051463347\n",
       "3  current_events     741406 0.045234421\n",
       "4  download_as_pdf    685032 0.041794949\n",
       "5  related_changes    579563 0.035360109\n",
       "6  recent_changes     476123 0.029049061\n",
       "7  contents           424594 0.025905191\n",
       "8  create_book        258355 0.015762671\n",
       "9  cite_this_page     242384 0.014788253\n",
       "10 community_portal   237826 0.014510162\n",
       "11 contact_page       226885 0.013842634\n",
       "12 about_wikipedia    125960 0.007685030\n",
       "13 featured_content   124742 0.007610718\n",
       "14 page_info          123188 0.007515906\n",
       "15 file_upload         95757 0.005842295\n",
       "16 help_views          91465 0.005580433\n",
       "17 special_pages       45432 0.002771882\n",
       "18 random_article          0 0.000000000"
      ]
     },
     "metadata": {},
     "output_type": "display_data"
    }
   ],
   "source": [
    "#proportion of sidebar views\n",
    "\n",
    "sidebar_views_overall <- sidebar_views_overall_raw %>%\n",
    "  gather(sidebar_link, n_views) %>%\n",
    "  mutate(proportion = (n_views / sum(n_views))) %>%\n",
    "  arrange(desc(n_views))\n",
    "\n",
    "sidebar_views_overall\n"
   ]
  },
  {
   "cell_type": "code",
   "execution_count": 32,
   "metadata": {},
   "outputs": [
    {
     "data": {
      "image/png": "[encoded data removed]",
      "text/plain": [
       "plot without title"
      ]
     },
     "metadata": {},
     "output_type": "display_data"
    }
   ],
   "source": [
    "#plot bar chart showing usage\n",
    "\n",
    "p <- ggplot(sidebar_views_overall, aes(x= sidebar_link, y= proportion, fill = sidebar_link)) %>%\n",
    "+ geom_col(position = 'dodge') +\n",
    "scale_y_continuous(\"Proportion of sidebar views\", labels = scales::percent) +\n",
    "    labs(title = \"Desktop views to links in sidebar on English Wikipedia\") +\n",
    "    ggthemes::theme_tufte(base_size = 10, base_family = \"Gill Sans\") +\n",
    "    theme(axis.text.x=element_text(angle = 45, hjust = 1),\n",
    "        plot.title = element_text(hjust = 0.5),\n",
    "        panel.grid = element_line(\"gray70\"),\n",
    "        legend.position= \"none\")\n",
    "\n",
    "ggsave(\"Figures/proportion_sidebar_views.png\", p, width = 18, height = 9, units = \"in\", dpi = 150)\n",
    "p\n"
   ]
  },
  {
   "cell_type": "markdown",
   "metadata": {},
   "source": [
    "The main page is by far the most viewed sidebar linked page on desktop (about 68% of all users views to a sidebar linked page are to the main page)  followed by the what_links_here, current_events pages and download as pdf. This is for both logged in and logged out users.\n",
    "\n",
    "Note: Random Article is recording very few events. This may be due to a bug in how it's recorded.  I'll need to investigate further"
   ]
  },
  {
   "cell_type": "markdown",
   "metadata": {},
   "source": [
    "### what percentage of users use links in the sidebar?"
   ]
  },
  {
   "cell_type": "code",
   "execution_count": 43,
   "metadata": {},
   "outputs": [],
   "source": [
    "#estimate of all unique users on desktop in Jul 2019 (both logged in and logged out)\n",
    "\n",
    "query <- \n",
    "\"SELECT COUNT(DISTINCT CONCAT(client_ip, user_agent)) as n_user,\n",
    "logged_in\n",
    "FROM (\n",
    "SELECT \n",
    "client_ip,\n",
    "user_agent,\n",
    "IF(x_analytics_map['loggedIn'] = '1', true, false) as logged_in\n",
    "FROM wmf.webrequest TABLESAMPLE(BUCKET 1 OUT OF 1024 ON hostname, sequence)\n",
    "WHERE year = 2019 and month = 7\n",
    "  AND agent_type = 'user'\n",
    "  AND access_method = 'desktop'\n",
    "  AND is_pageview\n",
    "  AND webrequest_source = 'text'\n",
    " AND pageview_info['project'] = 'en.wikipedia'\n",
    ") as dataset\n",
    "GROUP BY logged_in\""
   ]
  },
  {
   "cell_type": "code",
   "execution_count": 22,
   "metadata": {},
   "outputs": [],
   "source": [
    "unique_users_count <- read.csv(file=\"Data/unique_users_count.tsv\", header=TRUE, sep=\"\\t\")"
   ]
  },
  {
   "cell_type": "code",
   "execution_count": null,
   "metadata": {},
   "outputs": [],
   "source": [
    "## users who view sidebar linked page broken down by logged in status\n",
    "query <- \n",
    "\"SELECT COUNT(DISTINCT CONCAT(client_ip, user_agent)) as n_user_sidebar,\n",
    "logged_in\n",
    "FROM (\n",
    "SELECT \n",
    "client_ip,\n",
    "user_agent,\n",
    "IF(x_analytics_map['loggedIn'] = '1', true, false) as logged_in\n",
    "FROM wmf.webrequest\n",
    "WHERE year = 2019 and month = 7\n",
    "  AND agent_type = 'user'\n",
    "  AND access_method = 'desktop'\n",
    "  AND referer_class = 'internal' --isolate to only views to these pages from within wikipedia. \n",
    "  AND is_pageview\n",
    " AND pageview_info['project'] = 'en.wikipedia'\n",
    "  AND (pageview_info['page_title'] IN ('Main_Page', 'Portal:Contents', 'Portal:Featured_content', 'Portal:Current_events',\n",
    "  'Special:Random', 'Help:Contents', 'Wikipedia:About', 'Wikipedia:Community_portal', 'Special:RecentChanges', 'Wikipedia:Contact_us',\n",
    "  'Wikipedia:File_Upload_Wizard', 'Special:SpecialPages', 'Special:CiteThisPage', 'Special:Book', 'Special:ElectronPdf') OR\n",
    "      pageview_info['page_title'] LIKE '%Special:WhatLinksHere%' OR \n",
    "      pageview_info['page_title'] LIKE '%Special:RecentChangesLinked%' OR \n",
    "      uri_query LIKE '%&action=info%')\n",
    ") as dataset\n",
    "GROUP BY logged_in\""
   ]
  },
  {
   "cell_type": "code",
   "execution_count": 20,
   "metadata": {},
   "outputs": [],
   "source": [
    "sidebar_views_user_overall_raw <- read.csv(file=\"Data/sidebar_views_user_overall.tsv\", header=TRUE, sep=\"\\t\")"
   ]
  },
  {
   "cell_type": "code",
   "execution_count": 23,
   "metadata": {},
   "outputs": [
    {
     "data": {
      "text/html": [
       "<table>\n",
       "<caption>A data.frame: 3 × 4</caption>\n",
       "<thead>\n",
       "\t<tr><th scope=col>logged_in</th><th scope=col>n_user_sidebar</th><th scope=col>n_user_all</th><th scope=col>user_pct</th></tr>\n",
       "\t<tr><th scope=col>&lt;fct&gt;</th><th scope=col>&lt;int&gt;</th><th scope=col>&lt;int&gt;</th><th scope=col>&lt;dbl&gt;</th></tr>\n",
       "</thead>\n",
       "<tbody>\n",
       "\t<tr><td>     </td><td>   NA</td><td>     NA</td><td>       NA</td></tr>\n",
       "\t<tr><td>false</td><td>11732</td><td>2038498</td><td>0.5755218</td></tr>\n",
       "\t<tr><td>true </td><td>  731</td><td>  44345</td><td>1.6484384</td></tr>\n",
       "</tbody>\n",
       "</table>\n"
      ],
      "text/latex": [
       "A data.frame: 3 × 4\n",
       "\\begin{tabular}{r|llll}\n",
       " logged\\_in & n\\_user\\_sidebar & n\\_user\\_all & user\\_pct\\\\\n",
       " <fct> & <int> & <int> & <dbl>\\\\\n",
       "\\hline\n",
       "\t       &    NA &      NA &        NA\\\\\n",
       "\t false & 11732 & 2038498 & 0.5755218\\\\\n",
       "\t true  &   731 &   44345 & 1.6484384\\\\\n",
       "\\end{tabular}\n"
      ],
      "text/markdown": [
       "\n",
       "A data.frame: 3 × 4\n",
       "\n",
       "| logged_in &lt;fct&gt; | n_user_sidebar &lt;int&gt; | n_user_all &lt;int&gt; | user_pct &lt;dbl&gt; |\n",
       "|---|---|---|---|\n",
       "| <!----> |    NA |      NA |        NA |\n",
       "| false | 11732 | 2038498 | 0.5755218 |\n",
       "| true  |   731 |   44345 | 1.6484384 |\n",
       "\n"
      ],
      "text/plain": [
       "  logged_in n_user_sidebar n_user_all user_pct \n",
       "1              NA               NA           NA\n",
       "2 false     11732          2038498    0.5755218\n",
       "3 true        731            44345    1.6484384"
      ]
     },
     "metadata": {},
     "output_type": "display_data"
    }
   ],
   "source": [
    "sidebar_views_user_overall <- merge(sidebar_views_user_overall_raw, unique_users_count, by = \"logged_in\", all = TRUE)\n",
    "\n",
    "sidebar_views_byusertype <- sidebar_views_user_overall  %>%\n",
    "mutate(user_pct = (n_user_sidebar/n_user_all) * 100)\n",
    "\n",
    "sidebar_views_byusertype"
   ]
  },
  {
   "cell_type": "markdown",
   "metadata": {},
   "source": [
    "Looking at sample data from July 2019, about 0.5% of logged out users and 1.6% of logged in desktop users clicked on a one of the pages located in the sidebar. "
   ]
  },
  {
   "cell_type": "code",
   "execution_count": null,
   "metadata": {},
   "outputs": [],
   "source": [
    "# Obtain user clicks to each sidebar linked page\n",
    "#ran in terminal due to issues running over notebook. \n",
    "\n",
    "query <-\n",
    "\"\n",
    "SELECT \n",
    "  COUNT(DISTINCT CONCAT(client_ip, user_agent)) as n_user,\n",
    "  logged_in,\n",
    "  sidebar_name\n",
    "FROM (\n",
    "  SELECT \n",
    "  client_ip,\n",
    "  user_agent,\n",
    "  IF(x_analytics_map['loggedIn'] = '1', true, false) as logged_in,\n",
    "  (CASE\n",
    "    WHEN uri_query LIKE '%&action=info%' THEN 'PageInformation' \n",
    "    WHEN pageview_info['page_title'] LIKE '%Special:WhatLinksHere%' THEN 'WhatLinksHere' \n",
    "    WHEN pageview_info['page_title'] LIKE '%Special:RecentChangesLinked%' THEN 'RelatedChanges' \n",
    "    ELSE pageview_info['page_title'] \n",
    "  END) as sidebar_name\n",
    "FROM wmf.webrequest TABLESAMPLE(BUCKET 1 OUT OF 1024 ON hostname, sequence)\n",
    "WHERE\n",
    "year = 2019 and month = 7 \n",
    "  AND agent_type = 'user'\n",
    "  AND access_method = 'desktop'\n",
    "  AND referer_class = 'internal' --isolate to only views to these pages from within wikipedia. \n",
    "  AND is_pageview\n",
    "  AND webrequest_source = 'text'\n",
    "  AND pageview_info['project'] = 'en.wikipedia'\n",
    "  AND (pageview_info['page_title'] IN ('Main_Page', 'Portal:Contents', 'Portal:Featured_content', 'Portal:Current_events',\n",
    "  'Special:Random', 'Help:Contents', 'Wikipedia:About', 'Wikipedia:Community_portal', 'Special:RecentChanges', 'Wikipedia:Contact_us',\n",
    "  'Wikipedia:File_Upload_Wizard', 'Special:SpecialPages', 'Special:CiteThisPage', 'Special:Book', 'Special:ElectronPdf') OR\n",
    "      pageview_info['page_title'] LIKE '%Special:WhatLinksHere%' OR \n",
    "      pageview_info['page_title'] LIKE '%Special:RecentChangesLinked%' OR \n",
    "      pageview_info['page_title'] LIKE '%Special:RecentChangesLinked%' OR \n",
    "      uri_query LIKE '%&action=info%')\n",
    ") AS page_info\n",
    "Group BY sidebar_name, logged_in\n",
    "\""
   ]
  },
  {
   "cell_type": "code",
   "execution_count": 80,
   "metadata": {},
   "outputs": [],
   "source": [
    "sidebar_views_user_byfeature_raw <- read.csv(file=\"Data/sidebar_views_users_byfeature.tsv\", header=TRUE, sep= \"\\t\")"
   ]
  },
  {
   "cell_type": "code",
   "execution_count": 121,
   "metadata": {},
   "outputs": [
    {
     "data": {
      "text/html": [
       "<table>\n",
       "<caption>A data.frame: 34 × 4</caption>\n",
       "<thead>\n",
       "\t<tr><th scope=col>n_user_sidebar</th><th scope=col>logged_in</th><th scope=col>sidebar_name</th><th scope=col>percent_all_users</th></tr>\n",
       "\t<tr><th scope=col>&lt;int&gt;</th><th scope=col>&lt;fct&gt;</th><th scope=col>&lt;fct&gt;</th><th scope=col>&lt;dbl&gt;</th></tr>\n",
       "</thead>\n",
       "<tbody>\n",
       "\t<tr><td> 442</td><td>true </td><td>Main_Page                   </td><td>0.996730184</td></tr>\n",
       "\t<tr><td>9312</td><td>false</td><td>Main_Page                   </td><td>0.456806924</td></tr>\n",
       "\t<tr><td>  81</td><td>true </td><td>WhatLinksHere               </td><td>0.182658699</td></tr>\n",
       "\t<tr><td>  51</td><td>true </td><td>Portal:Current_events       </td><td>0.115007329</td></tr>\n",
       "\t<tr><td>  44</td><td>true </td><td>Special:RecentChanges       </td><td>0.099222009</td></tr>\n",
       "\t<tr><td>  29</td><td>true </td><td>Wikipedia:File_Upload_Wizard</td><td>0.065396324</td></tr>\n",
       "\t<tr><td>  17</td><td>true </td><td>PageInformation             </td><td>0.038335776</td></tr>\n",
       "\t<tr><td>  16</td><td>true </td><td>Special:ElectronPdf         </td><td>0.036080731</td></tr>\n",
       "\t<tr><td>  12</td><td>true </td><td>RelatedChanges              </td><td>0.027060548</td></tr>\n",
       "\t<tr><td>  12</td><td>true </td><td>Portal:Contents             </td><td>0.027060548</td></tr>\n",
       "\t<tr><td> 541</td><td>false</td><td>Special:ElectronPdf         </td><td>0.026539148</td></tr>\n",
       "\t<tr><td> 527</td><td>false</td><td>Portal:Current_events       </td><td>0.025852368</td></tr>\n",
       "\t<tr><td>  11</td><td>true </td><td>Wikipedia:Community_portal  </td><td>0.024805502</td></tr>\n",
       "\t<tr><td> 314</td><td>false</td><td>WhatLinksHere               </td><td>0.015403498</td></tr>\n",
       "\t<tr><td>   6</td><td>true </td><td>Special:Book                </td><td>0.013530274</td></tr>\n",
       "\t<tr><td> 238</td><td>false</td><td>Special:RecentChanges       </td><td>0.011675263</td></tr>\n",
       "\t<tr><td> 234</td><td>false</td><td>RelatedChanges              </td><td>0.011479040</td></tr>\n",
       "\t<tr><td>   5</td><td>true </td><td>Special:SpecialPages        </td><td>0.011275228</td></tr>\n",
       "\t<tr><td> 159</td><td>false</td><td>Portal:Contents             </td><td>0.007799860</td></tr>\n",
       "\t<tr><td>   3</td><td>true </td><td>Special:CiteThisPage        </td><td>0.006765137</td></tr>\n",
       "\t<tr><td>   3</td><td>true </td><td>Wikipedia:About             </td><td>0.006765137</td></tr>\n",
       "\t<tr><td> 131</td><td>false</td><td>Special:CiteThisPage        </td><td>0.006426300</td></tr>\n",
       "\t<tr><td> 122</td><td>false</td><td>Special:Book                </td><td>0.005984799</td></tr>\n",
       "\t<tr><td>  96</td><td>false</td><td>Wikipedia:Contact_us        </td><td>0.004709350</td></tr>\n",
       "\t<tr><td>   2</td><td>true </td><td>Portal:Featured_content     </td><td>0.004510091</td></tr>\n",
       "\t<tr><td>   2</td><td>true </td><td>Help:Contents               </td><td>0.004510091</td></tr>\n",
       "\t<tr><td>  91</td><td>false</td><td>Portal:Featured_content     </td><td>0.004464071</td></tr>\n",
       "\t<tr><td>  87</td><td>false</td><td>PageInformation             </td><td>0.004267848</td></tr>\n",
       "\t<tr><td>  86</td><td>false</td><td>Wikipedia:About             </td><td>0.004218792</td></tr>\n",
       "\t<tr><td>  82</td><td>false</td><td>Wikipedia:Community_portal  </td><td>0.004022570</td></tr>\n",
       "\t<tr><td>  56</td><td>false</td><td>Wikipedia:File_Upload_Wizard</td><td>0.002747121</td></tr>\n",
       "\t<tr><td>  49</td><td>false</td><td>Help:Contents               </td><td>0.002403731</td></tr>\n",
       "\t<tr><td>   1</td><td>true </td><td>Wikipedia:Contact_us        </td><td>0.002255046</td></tr>\n",
       "\t<tr><td>  29</td><td>false</td><td>Special:SpecialPages        </td><td>0.001422616</td></tr>\n",
       "</tbody>\n",
       "</table>\n"
      ],
      "text/latex": [
       "A data.frame: 34 × 4\n",
       "\\begin{tabular}{r|llll}\n",
       " n\\_user\\_sidebar & logged\\_in & sidebar\\_name & percent\\_all\\_users\\\\\n",
       " <int> & <fct> & <fct> & <dbl>\\\\\n",
       "\\hline\n",
       "\t  442 & true  & Main\\_Page                    & 0.996730184\\\\\n",
       "\t 9312 & false & Main\\_Page                    & 0.456806924\\\\\n",
       "\t   81 & true  & WhatLinksHere                & 0.182658699\\\\\n",
       "\t   51 & true  & Portal:Current\\_events        & 0.115007329\\\\\n",
       "\t   44 & true  & Special:RecentChanges        & 0.099222009\\\\\n",
       "\t   29 & true  & Wikipedia:File\\_Upload\\_Wizard & 0.065396324\\\\\n",
       "\t   17 & true  & PageInformation              & 0.038335776\\\\\n",
       "\t   16 & true  & Special:ElectronPdf          & 0.036080731\\\\\n",
       "\t   12 & true  & RelatedChanges               & 0.027060548\\\\\n",
       "\t   12 & true  & Portal:Contents              & 0.027060548\\\\\n",
       "\t  541 & false & Special:ElectronPdf          & 0.026539148\\\\\n",
       "\t  527 & false & Portal:Current\\_events        & 0.025852368\\\\\n",
       "\t   11 & true  & Wikipedia:Community\\_portal   & 0.024805502\\\\\n",
       "\t  314 & false & WhatLinksHere                & 0.015403498\\\\\n",
       "\t    6 & true  & Special:Book                 & 0.013530274\\\\\n",
       "\t  238 & false & Special:RecentChanges        & 0.011675263\\\\\n",
       "\t  234 & false & RelatedChanges               & 0.011479040\\\\\n",
       "\t    5 & true  & Special:SpecialPages         & 0.011275228\\\\\n",
       "\t  159 & false & Portal:Contents              & 0.007799860\\\\\n",
       "\t    3 & true  & Special:CiteThisPage         & 0.006765137\\\\\n",
       "\t    3 & true  & Wikipedia:About              & 0.006765137\\\\\n",
       "\t  131 & false & Special:CiteThisPage         & 0.006426300\\\\\n",
       "\t  122 & false & Special:Book                 & 0.005984799\\\\\n",
       "\t   96 & false & Wikipedia:Contact\\_us         & 0.004709350\\\\\n",
       "\t    2 & true  & Portal:Featured\\_content      & 0.004510091\\\\\n",
       "\t    2 & true  & Help:Contents                & 0.004510091\\\\\n",
       "\t   91 & false & Portal:Featured\\_content      & 0.004464071\\\\\n",
       "\t   87 & false & PageInformation              & 0.004267848\\\\\n",
       "\t   86 & false & Wikipedia:About              & 0.004218792\\\\\n",
       "\t   82 & false & Wikipedia:Community\\_portal   & 0.004022570\\\\\n",
       "\t   56 & false & Wikipedia:File\\_Upload\\_Wizard & 0.002747121\\\\\n",
       "\t   49 & false & Help:Contents                & 0.002403731\\\\\n",
       "\t    1 & true  & Wikipedia:Contact\\_us         & 0.002255046\\\\\n",
       "\t   29 & false & Special:SpecialPages         & 0.001422616\\\\\n",
       "\\end{tabular}\n"
      ],
      "text/markdown": [
       "\n",
       "A data.frame: 34 × 4\n",
       "\n",
       "| n_user_sidebar &lt;int&gt; | logged_in &lt;fct&gt; | sidebar_name &lt;fct&gt; | percent_all_users &lt;dbl&gt; |\n",
       "|---|---|---|---|\n",
       "|  442 | true  | Main_Page                    | 0.996730184 |\n",
       "| 9312 | false | Main_Page                    | 0.456806924 |\n",
       "|   81 | true  | WhatLinksHere                | 0.182658699 |\n",
       "|   51 | true  | Portal:Current_events        | 0.115007329 |\n",
       "|   44 | true  | Special:RecentChanges        | 0.099222009 |\n",
       "|   29 | true  | Wikipedia:File_Upload_Wizard | 0.065396324 |\n",
       "|   17 | true  | PageInformation              | 0.038335776 |\n",
       "|   16 | true  | Special:ElectronPdf          | 0.036080731 |\n",
       "|   12 | true  | RelatedChanges               | 0.027060548 |\n",
       "|   12 | true  | Portal:Contents              | 0.027060548 |\n",
       "|  541 | false | Special:ElectronPdf          | 0.026539148 |\n",
       "|  527 | false | Portal:Current_events        | 0.025852368 |\n",
       "|   11 | true  | Wikipedia:Community_portal   | 0.024805502 |\n",
       "|  314 | false | WhatLinksHere                | 0.015403498 |\n",
       "|    6 | true  | Special:Book                 | 0.013530274 |\n",
       "|  238 | false | Special:RecentChanges        | 0.011675263 |\n",
       "|  234 | false | RelatedChanges               | 0.011479040 |\n",
       "|    5 | true  | Special:SpecialPages         | 0.011275228 |\n",
       "|  159 | false | Portal:Contents              | 0.007799860 |\n",
       "|    3 | true  | Special:CiteThisPage         | 0.006765137 |\n",
       "|    3 | true  | Wikipedia:About              | 0.006765137 |\n",
       "|  131 | false | Special:CiteThisPage         | 0.006426300 |\n",
       "|  122 | false | Special:Book                 | 0.005984799 |\n",
       "|   96 | false | Wikipedia:Contact_us         | 0.004709350 |\n",
       "|    2 | true  | Portal:Featured_content      | 0.004510091 |\n",
       "|    2 | true  | Help:Contents                | 0.004510091 |\n",
       "|   91 | false | Portal:Featured_content      | 0.004464071 |\n",
       "|   87 | false | PageInformation              | 0.004267848 |\n",
       "|   86 | false | Wikipedia:About              | 0.004218792 |\n",
       "|   82 | false | Wikipedia:Community_portal   | 0.004022570 |\n",
       "|   56 | false | Wikipedia:File_Upload_Wizard | 0.002747121 |\n",
       "|   49 | false | Help:Contents                | 0.002403731 |\n",
       "|    1 | true  | Wikipedia:Contact_us         | 0.002255046 |\n",
       "|   29 | false | Special:SpecialPages         | 0.001422616 |\n",
       "\n"
      ],
      "text/plain": [
       "   n_user_sidebar logged_in sidebar_name                 percent_all_users\n",
       "1   442           true      Main_Page                    0.996730184      \n",
       "2  9312           false     Main_Page                    0.456806924      \n",
       "3    81           true      WhatLinksHere                0.182658699      \n",
       "4    51           true      Portal:Current_events        0.115007329      \n",
       "5    44           true      Special:RecentChanges        0.099222009      \n",
       "6    29           true      Wikipedia:File_Upload_Wizard 0.065396324      \n",
       "7    17           true      PageInformation              0.038335776      \n",
       "8    16           true      Special:ElectronPdf          0.036080731      \n",
       "9    12           true      RelatedChanges               0.027060548      \n",
       "10   12           true      Portal:Contents              0.027060548      \n",
       "11  541           false     Special:ElectronPdf          0.026539148      \n",
       "12  527           false     Portal:Current_events        0.025852368      \n",
       "13   11           true      Wikipedia:Community_portal   0.024805502      \n",
       "14  314           false     WhatLinksHere                0.015403498      \n",
       "15    6           true      Special:Book                 0.013530274      \n",
       "16  238           false     Special:RecentChanges        0.011675263      \n",
       "17  234           false     RelatedChanges               0.011479040      \n",
       "18    5           true      Special:SpecialPages         0.011275228      \n",
       "19  159           false     Portal:Contents              0.007799860      \n",
       "20    3           true      Special:CiteThisPage         0.006765137      \n",
       "21    3           true      Wikipedia:About              0.006765137      \n",
       "22  131           false     Special:CiteThisPage         0.006426300      \n",
       "23  122           false     Special:Book                 0.005984799      \n",
       "24   96           false     Wikipedia:Contact_us         0.004709350      \n",
       "25    2           true      Portal:Featured_content      0.004510091      \n",
       "26    2           true      Help:Contents                0.004510091      \n",
       "27   91           false     Portal:Featured_content      0.004464071      \n",
       "28   87           false     PageInformation              0.004267848      \n",
       "29   86           false     Wikipedia:About              0.004218792      \n",
       "30   82           false     Wikipedia:Community_portal   0.004022570      \n",
       "31   56           false     Wikipedia:File_Upload_Wizard 0.002747121      \n",
       "32   49           false     Help:Contents                0.002403731      \n",
       "33    1           true      Wikipedia:Contact_us         0.002255046      \n",
       "34   29           false     Special:SpecialPages         0.001422616      "
      ]
     },
     "metadata": {},
     "output_type": "display_data"
    }
   ],
   "source": [
    "#Table showing percent of all users in each group (logged in or logged out) \n",
    "#that view each page linked in the sidebar\n",
    "\n",
    "sidebar_views_user_byfeature <- sidebar_views_user_byfeature_raw  %>%\n",
    "mutate(percent_all_users = if_else(logged_in == 'false', as.numeric(n_user_sidebar)/2038498 *100, as.numeric(n_user_sidebar)/44345 * 100)) %>%\n",
    "arrange(desc(percent_all_users))\n",
    "\n",
    "sidebar_views_user_byfeature"
   ]
  },
  {
   "cell_type": "markdown",
   "metadata": {},
   "source": [
    "##  User links in header\n",
    "\n",
    "Questions: what percentage of users use the user links in the header? What is the usage for all of the various links?\n",
    "\n",
    "Audiences: logged-in users, logged-out users\n",
    "\n",
    "Why this is relevant: currently the user links take up quite a bit of space in the header. As we think of ways to tidy up the site it would be helpful to understand what the usage is like there.\n",
    "\n",
    "Data Notes: Sample data from webrequest and pageview_hourly table for en.wiki. Data is from July 2019 and for desktop users on en.wiki.\n",
    "Pages available in header vary for logged-in and logged-out users.\n",
    " "
   ]
  },
  {
   "cell_type": "markdown",
   "metadata": {},
   "source": [
    "### What is the usage for all of the various links in the header?"
   ]
  },
  {
   "cell_type": "code",
   "execution_count": null,
   "metadata": {},
   "outputs": [],
   "source": [
    "# Overall views to various header links (both logged in and logged out users)\n",
    "#ran in terminal due to issues running over notebook. \n",
    "query <- \n",
    "\"SELECT \n",
    "SUM(IF(page_title = 'Special:MyTalk', 1, null)) AS MyTalk,\n",
    "SUM(IF(page_title = 'Special:MyContributions', 1, null)) AS MyContributions,\n",
    "SUM(IF(page_title = 'Special:CreateAccount', 1, null)) AS CreateAccount,\n",
    "SUM(IF(page_title = 'Special:UserLogin', 1, null)) AS UserLogin,\n",
    "SUM(IF(page_title LIKE 'User:%', 1, null)) AS UserPage,\n",
    "SUM(IF(page_title LIKE 'User_talk:%', 1, null)) AS User_talk,\n",
    "SUM(IF(page_title LIKE 'User:%/sandbox', 1, null)) AS Sandbox,\n",
    "SUM(IF(page_title = 'Special:Preferences', 1, null)) AS Preferences,\n",
    "SUM(IF(page_title = 'Special:Watchlist', 1, null)) AS Watchlist,\n",
    "SUM(IF(page_title LIKE 'Special:Contributions%', 1, null)) AS Contributions,\n",
    "SUM(IF(page_title = 'Special:UserLogout', 1, null)) AS UserLogout\n",
    "FROM wmf.pageview_hourly\n",
    "WHERE year = 2019 and month = 7 \n",
    "  AND agent_type = 'user'\n",
    "  AND project = 'en.wikipedia'\n",
    "  AND access_method = 'desktop'\n",
    "  AND referer_class = 'internal' --isolate to only views to these pages from within wikipedia. \n",
    "\""
   ]
  },
  {
   "cell_type": "code",
   "execution_count": 91,
   "metadata": {},
   "outputs": [],
   "source": [
    "header_views_overall_raw <- read.csv(file=\"Data/header_views_overall.tsv\", header=TRUE, sep=\"\\t\")"
   ]
  },
  {
   "cell_type": "code",
   "execution_count": 123,
   "metadata": {},
   "outputs": [
    {
     "data": {
      "text/html": [
       "<table>\n",
       "<caption>A data.frame: 4 × 3</caption>\n",
       "<thead>\n",
       "\t<tr><th scope=col>header_link</th><th scope=col>n_views</th><th scope=col>proportion</th></tr>\n",
       "\t<tr><th scope=col>&lt;chr&gt;</th><th scope=col>&lt;int&gt;</th><th scope=col>&lt;dbl&gt;</th></tr>\n",
       "</thead>\n",
       "<tbody>\n",
       "\t<tr><td>createaccount  </td><td>219392</td><td>0.52479846908</td></tr>\n",
       "\t<tr><td>mycontributions</td><td>102760</td><td>0.24580791771</td></tr>\n",
       "\t<tr><td>mytalk         </td><td> 95880</td><td>0.22935055615</td></tr>\n",
       "\t<tr><td>userlogin      </td><td>    18</td><td>0.00004305705</td></tr>\n",
       "</tbody>\n",
       "</table>\n"
      ],
      "text/latex": [
       "A data.frame: 4 × 3\n",
       "\\begin{tabular}{r|lll}\n",
       " header\\_link & n\\_views & proportion\\\\\n",
       " <chr> & <int> & <dbl>\\\\\n",
       "\\hline\n",
       "\t createaccount   & 219392 & 0.52479846908\\\\\n",
       "\t mycontributions & 102760 & 0.24580791771\\\\\n",
       "\t mytalk          &  95880 & 0.22935055615\\\\\n",
       "\t userlogin       &     18 & 0.00004305705\\\\\n",
       "\\end{tabular}\n"
      ],
      "text/markdown": [
       "\n",
       "A data.frame: 4 × 3\n",
       "\n",
       "| header_link &lt;chr&gt; | n_views &lt;int&gt; | proportion &lt;dbl&gt; |\n",
       "|---|---|---|\n",
       "| createaccount   | 219392 | 0.52479846908 |\n",
       "| mycontributions | 102760 | 0.24580791771 |\n",
       "| mytalk          |  95880 | 0.22935055615 |\n",
       "| userlogin       |     18 | 0.00004305705 |\n",
       "\n"
      ],
      "text/plain": [
       "  header_link     n_views proportion   \n",
       "1 createaccount   219392  0.52479846908\n",
       "2 mycontributions 102760  0.24580791771\n",
       "3 mytalk           95880  0.22935055615\n",
       "4 userlogin           18  0.00004305705"
      ]
     },
     "metadata": {},
     "output_type": "display_data"
    }
   ],
   "source": [
    "#isolate to links viewed by logged out users\n",
    "\n",
    "header_views_overall_loggedout <- header_views_overall_raw %>%\n",
    "  gather(header_link, n_views)  %>%\n",
    "  filter(header_link %in% c('mytalk', 'mycontributions','createaccount','userlogin')) %>%\n",
    "   mutate(proportion = (n_views / sum(n_views))) %>%\n",
    "  arrange(desc(n_views))\n",
    "\n",
    "header_views_overall_loggedout"
   ]
  },
  {
   "cell_type": "code",
   "execution_count": 111,
   "metadata": {},
   "outputs": [
    {
     "data": {
      "image/png": "[encoded data removed]",
      "text/plain": [
       "plot without title"
      ]
     },
     "metadata": {},
     "output_type": "display_data"
    }
   ],
   "source": [
    "#plot bar chart showing usage\n",
    "\n",
    "p <- ggplot(header_views_overall_loggedout, aes(x= header_link, y= proportion, fill = header_link)) %>%\n",
    "+ geom_col(position = 'dodge') +\n",
    "scale_y_continuous(\"Proportion of header views\", labels = scales::percent) +\n",
    "    labs(title = \"Desktop pageviews from header links for logged out users\") +\n",
    "    ggthemes::theme_tufte(base_size = 10, base_family = \"Gill Sans\") +\n",
    "    theme(axis.text.x=element_text(angle = 45, hjust = 1),\n",
    "        plot.title = element_text(hjust = 0.5),\n",
    "        panel.grid = element_line(\"gray70\"),\n",
    "        legend.position= \"none\")\n",
    "\n",
    "ggsave(\"Figures/proportion_header_views_loggedout.png\", p, width = 18, height = 9, units = \"in\", dpi = 150)\n",
    "p"
   ]
  },
  {
   "cell_type": "markdown",
   "metadata": {},
   "source": [
    "he create account link is the most viewed page in the header for logged out users. It accounts for about 52% of all desktop pageviews to links in a header for logged out users. Note: There were very few views to then UserLogin page compared to the other pages in the header bar, which seems unlikely. I spent a little time digging into the data but have not yet determined if this is real behavior or a bug."
   ]
  },
  {
   "cell_type": "code",
   "execution_count": 114,
   "metadata": {},
   "outputs": [
    {
     "data": {
      "text/html": [
       "<table>\n",
       "<caption>A data.frame: 7 × 3</caption>\n",
       "<thead>\n",
       "\t<tr><th scope=col>header_link</th><th scope=col>n_views</th><th scope=col>proportion</th></tr>\n",
       "\t<tr><th scope=col>&lt;chr&gt;</th><th scope=col>&lt;int&gt;</th><th scope=col>&lt;dbl&gt;</th></tr>\n",
       "</thead>\n",
       "<tbody>\n",
       "\t<tr><td>userpage     </td><td>1280851</td><td>0.332278703</td></tr>\n",
       "\t<tr><td>user_talk    </td><td>1023740</td><td>0.265578900</td></tr>\n",
       "\t<tr><td>contributions</td><td> 870312</td><td>0.225776568</td></tr>\n",
       "\t<tr><td>watchlist    </td><td> 511455</td><td>0.132681791</td></tr>\n",
       "\t<tr><td>sandbox      </td><td>  83960</td><td>0.021780925</td></tr>\n",
       "\t<tr><td>userlogout   </td><td>  55291</td><td>0.014343606</td></tr>\n",
       "\t<tr><td>preferences  </td><td>  29140</td><td>0.007559506</td></tr>\n",
       "</tbody>\n",
       "</table>\n"
      ],
      "text/latex": [
       "A data.frame: 7 × 3\n",
       "\\begin{tabular}{r|lll}\n",
       " header\\_link & n\\_views & proportion\\\\\n",
       " <chr> & <int> & <dbl>\\\\\n",
       "\\hline\n",
       "\t userpage      & 1280851 & 0.332278703\\\\\n",
       "\t user\\_talk     & 1023740 & 0.265578900\\\\\n",
       "\t contributions &  870312 & 0.225776568\\\\\n",
       "\t watchlist     &  511455 & 0.132681791\\\\\n",
       "\t sandbox       &   83960 & 0.021780925\\\\\n",
       "\t userlogout    &   55291 & 0.014343606\\\\\n",
       "\t preferences   &   29140 & 0.007559506\\\\\n",
       "\\end{tabular}\n"
      ],
      "text/markdown": [
       "\n",
       "A data.frame: 7 × 3\n",
       "\n",
       "| header_link &lt;chr&gt; | n_views &lt;int&gt; | proportion &lt;dbl&gt; |\n",
       "|---|---|---|\n",
       "| userpage      | 1280851 | 0.332278703 |\n",
       "| user_talk     | 1023740 | 0.265578900 |\n",
       "| contributions |  870312 | 0.225776568 |\n",
       "| watchlist     |  511455 | 0.132681791 |\n",
       "| sandbox       |   83960 | 0.021780925 |\n",
       "| userlogout    |   55291 | 0.014343606 |\n",
       "| preferences   |   29140 | 0.007559506 |\n",
       "\n"
      ],
      "text/plain": [
       "  header_link   n_views proportion \n",
       "1 userpage      1280851 0.332278703\n",
       "2 user_talk     1023740 0.265578900\n",
       "3 contributions  870312 0.225776568\n",
       "4 watchlist      511455 0.132681791\n",
       "5 sandbox         83960 0.021780925\n",
       "6 userlogout      55291 0.014343606\n",
       "7 preferences     29140 0.007559506"
      ]
     },
     "metadata": {},
     "output_type": "display_data"
    }
   ],
   "source": [
    "#isolate to links viewed by logged in users\n",
    "\n",
    "header_views_overall_loggedin <- header_views_overall_raw %>%\n",
    "  gather(header_link, n_views)  %>%\n",
    "  filter(header_link %in% c('userpage','user_talk', 'sandbox','preferences','watchlist', 'contributions', 'userlogout' )) %>%\n",
    "   mutate(proportion = (n_views / sum(n_views))) %>%\n",
    "  arrange(desc(n_views))\n",
    "\n",
    "header_views_overall_loggedin"
   ]
  },
  {
   "cell_type": "code",
   "execution_count": 115,
   "metadata": {},
   "outputs": [
    {
     "data": {
      "image/png": "[encoded data removed]",
      "text/plain": [
       "plot without title"
      ]
     },
     "metadata": {},
     "output_type": "display_data"
    }
   ],
   "source": [
    "#plot bar chart showing usage\n",
    "\n",
    "p <- ggplot(header_views_overall_loggedin, aes(x= header_link, y= proportion, fill = header_link)) %>%\n",
    "+ geom_col(position = 'dodge') +\n",
    "scale_y_continuous(\"Proportion of header views\", labels = scales::percent) +\n",
    "    labs(title = \"Desktop pageviews from header links for logged in users\") +\n",
    "    ggthemes::theme_tufte(base_size = 10, base_family = \"Gill Sans\") +\n",
    "    theme(axis.text.x=element_text(angle = 45, hjust = 1),\n",
    "        plot.title = element_text(hjust = 0.5),\n",
    "        panel.grid = element_line(\"gray70\"),\n",
    "        legend.position= \"none\")\n",
    "\n",
    "ggsave(\"Figures/proportion_header_views_loggedin.png\", p, width = 18, height = 9, units = \"in\", dpi = 150)\n",
    "p"
   ]
  },
  {
   "cell_type": "markdown",
   "metadata": {},
   "source": [
    "The user page, user talk page and contributions pages are the most viewed pages in the header for logged in users. "
   ]
  },
  {
   "cell_type": "markdown",
   "metadata": {},
   "source": [
    "### What percentage of users use the user links in the header?"
   ]
  },
  {
   "cell_type": "code",
   "execution_count": null,
   "metadata": {},
   "outputs": [],
   "source": [
    "## Overall for logged out users. Obtaining sample from the webrequest table. \n",
    "query <- \n",
    "\"SELECT COUNT(DISTINCT CONCAT(client_ip, user_agent)) as n_user\n",
    "FROM (\n",
    "SELECT \n",
    "client_ip,\n",
    "user_agent\n",
    "FROM wmf.webrequest TABLESAMPLE(BUCKET 1 OUT OF 1024 ON hostname, sequence)\n",
    "WHERE year = 2019 and month = 7\n",
    "  AND agent_type = 'user'\n",
    "  AND access_method = 'desktop'\n",
    "  AND referer_class = 'internal' --isolate to only views to these pages from within wikipedia. \n",
    " AND webrequest_source = 'text'\n",
    "  AND is_pageview\n",
    "AND x_analytics_map['loggedIn'] is NULL  \n",
    " AND pageview_info['project'] = 'en.wikipedia'\n",
    "  AND pageview_info['page_title'] IN ('Special:MyTalk', 'Special:MyContributions','Special:CreateAccount','Special:UserLogin') \n",
    ") as page_info\"\n"
   ]
  },
  {
   "cell_type": "markdown",
   "metadata": {},
   "source": [
    "** Logged Out Users\n",
    "* Logged out users that click link in sidebar out of selected sample: 891\n",
    "* Percentage of logged in users that click header link: Only about 0.04% of logged out users view one of the pages found in the header. "
   ]
  },
  {
   "cell_type": "code",
   "execution_count": null,
   "metadata": {},
   "outputs": [],
   "source": [
    "## Overall for logged in users\n",
    "query <- \n",
    "\"SELECT COUNT(DISTINCT CONCAT(client_ip, user_agent)) as n_user\n",
    "FROM (\n",
    "SELECT \n",
    "client_ip,\n",
    "user_agent,\n",
    "FROM wmf.webrequest TABLESAMPLE(BUCKET 1 OUT OF 1024 ON hostname, sequence)\n",
    "WHERE year = 2019 and month = 7\n",
    "  AND agent_type = 'user'\n",
    "  AND access_method = 'desktop'\n",
    "  AND referer_class = 'internal' --isolate to only views to these pages from within wikipedia. \n",
    " AND webrequest_source = 'text'\n",
    "  AND is_pageview\n",
    "AND x_analytics_map['loggedIn'] is NOT NULL  \n",
    " AND pageview_info['project'] = 'en.wikipedia'\n",
    "  AND (pageview_info['page_title'] IN ('Special:Preferences', 'Special:Watchlist','Special:UserLogout') \n",
    "OR\n",
    "      pageview_info['page_title'] LIKE 'User:%' OR \n",
    "      pageview_info['page_title'] LIKE 'User_talk:%' OR \n",
    "      pageview_info['page_title'] LIKE 'User:%/sandbox' OR\n",
    "      pageview_info['page_title'] LIKE 'Special:Contributions%')\n",
    ")as page_info\""
   ]
  },
  {
   "cell_type": "markdown",
   "metadata": {},
   "source": [
    "** Logged In Users\n",
    "* Logged in users that click header link out of selected sample: 3198\n",
    "* Percentage of logged in users that click header link:  7.2% \n",
    "\n",
    "A higher percentage of logged in users click on a link in the header compared to logged out."
   ]
  },
  {
   "cell_type": "code",
   "execution_count": null,
   "metadata": {},
   "outputs": [],
   "source": [
    "## By Feature for Logged Out Users\n",
    "\n",
    "query <-\n",
    "\"SELECT \n",
    "  COUNT(DISTINCT CONCAT(client_ip, user_agent)) as n_user,\n",
    "  header_name\n",
    "FROM (\n",
    "  SELECT \n",
    "  client_ip,\n",
    "  user_agent,\n",
    "  pageview_info['page_title'] as sidebar_name\n",
    "FROM wmf.webrequest TABLESAMPLE(BUCKET 1 OUT OF 1024 ON hostname, sequence)\n",
    "WHERE\n",
    "year = 2019 and month = 7 \n",
    "  AND agent_type = 'user'\n",
    "  AND access_method = 'desktop'\n",
    "  AND referer_class = 'internal' --isolate to only views to these pages from within wikipedia. \n",
    "  AND is_pageview\n",
    "  AND x_analytics_map['loggedIn'] is NULL  \n",
    "  AND webrequest_source = 'text'\n",
    "  AND pageview_info['project'] = 'en.wikipedia'\n",
    "  AND pageview_info['page_title'] IN ('Special:MyTalk', 'Special:MyContributions','Special:CreateAccount','Special:UserLogin') \n",
    ") AS page_info\n",
    "Group BY sidebar_name\n",
    "\"\n"
   ]
  },
  {
   "cell_type": "code",
   "execution_count": 93,
   "metadata": {},
   "outputs": [],
   "source": [
    "header_views_loggedout_bylink_raw <- read.csv(file=\"Data/header_views_loggedout_bylink.tsv\", header=TRUE, sep= \"\\t\")"
   ]
  },
  {
   "cell_type": "code",
   "execution_count": 96,
   "metadata": {},
   "outputs": [
    {
     "data": {
      "text/html": [
       "<table>\n",
       "<caption>A data.frame: 4 × 3</caption>\n",
       "<thead>\n",
       "\t<tr><th scope=col>n_user</th><th scope=col>sidebar_name</th><th scope=col>user_pct</th></tr>\n",
       "\t<tr><th scope=col>&lt;int&gt;</th><th scope=col>&lt;fct&gt;</th><th scope=col>&lt;dbl&gt;</th></tr>\n",
       "</thead>\n",
       "<tbody>\n",
       "\t<tr><td>564</td><td>Special:CreateAccount  </td><td>0.02766742965</td></tr>\n",
       "\t<tr><td>252</td><td>Special:MyTalk         </td><td>0.01236204303</td></tr>\n",
       "\t<tr><td>125</td><td>Special:MyContributions</td><td>0.00613196579</td></tr>\n",
       "\t<tr><td>  1</td><td>Special:UserLogin      </td><td>0.00004905573</td></tr>\n",
       "</tbody>\n",
       "</table>\n"
      ],
      "text/latex": [
       "A data.frame: 4 × 3\n",
       "\\begin{tabular}{r|lll}\n",
       " n\\_user & sidebar\\_name & user\\_pct\\\\\n",
       " <int> & <fct> & <dbl>\\\\\n",
       "\\hline\n",
       "\t 564 & Special:CreateAccount   & 0.02766742965\\\\\n",
       "\t 252 & Special:MyTalk          & 0.01236204303\\\\\n",
       "\t 125 & Special:MyContributions & 0.00613196579\\\\\n",
       "\t   1 & Special:UserLogin       & 0.00004905573\\\\\n",
       "\\end{tabular}\n"
      ],
      "text/markdown": [
       "\n",
       "A data.frame: 4 × 3\n",
       "\n",
       "| n_user &lt;int&gt; | sidebar_name &lt;fct&gt; | user_pct &lt;dbl&gt; |\n",
       "|---|---|---|\n",
       "| 564 | Special:CreateAccount   | 0.02766742965 |\n",
       "| 252 | Special:MyTalk          | 0.01236204303 |\n",
       "| 125 | Special:MyContributions | 0.00613196579 |\n",
       "|   1 | Special:UserLogin       | 0.00004905573 |\n",
       "\n"
      ],
      "text/plain": [
       "  n_user sidebar_name            user_pct     \n",
       "1 564    Special:CreateAccount   0.02766742965\n",
       "2 252    Special:MyTalk          0.01236204303\n",
       "3 125    Special:MyContributions 0.00613196579\n",
       "4   1    Special:UserLogin       0.00004905573"
      ]
     },
     "metadata": {},
     "output_type": "display_data"
    }
   ],
   "source": [
    "header_views_loggedout_bylink <- header_views_loggedout_bylink_raw  %>%\n",
    "mutate(user_pct = as.numeric(n_user)/2038498 *100) %>%\n",
    "arrange(desc(user_pct))\n",
    "\n",
    "header_views_loggedout_bylink\n"
   ]
  },
  {
   "cell_type": "code",
   "execution_count": null,
   "metadata": {},
   "outputs": [],
   "source": [
    "## By Feature for Logged In Users\n",
    "\n",
    "query <-\n",
    "\"SELECT \n",
    "  COUNT(DISTINCT CONCAT(client_ip, user_agent)) as n_user,\n",
    "  header_name\n",
    "FROM (\n",
    "  SELECT \n",
    "  client_ip,\n",
    "  user_agent,\n",
    "  (CASE \n",
    "    WHEN pageview_info['page_title'] LIKE 'User:%' THEN 'User' \n",
    "    WHEN pageview_info['page_title'] LIKE 'User_talk:%' THEN 'User_talk' \n",
    "    WHEN pageview_info['page_title'] LIKE 'User:%/sandbox' THEN 'Sandbox' \n",
    "    WHEN pageview_info['page_title'] LIKE 'Special:Contributions%' THEN 'Special:Contributions'\n",
    "    ELSE pageview_info['page_title'] \n",
    "  END) as header_name\n",
    "FROM wmf.webrequest TABLESAMPLE(BUCKET 1 OUT OF 1024 ON hostname, sequence)\n",
    "WHERE\n",
    "year = 2019 and month = 7\n",
    "  AND agent_type = 'user'\n",
    "  AND access_method = 'desktop'\n",
    "  AND referer_class = 'internal' --isolate to only views to these pages from within wikipedia. \n",
    "  AND is_pageview\n",
    "  AND x_analytics_map['loggedIn'] is NOT NULL  \n",
    "  AND webrequest_source = 'text'\n",
    "  AND pageview_info['project'] = 'en.wikipedia'\n",
    " AND (pageview_info['page_title'] IN ('Special:Preferences', 'Special:Watchlist','Special:UserLogout') \n",
    "OR\n",
    "      pageview_info['page_title'] LIKE 'User:%' OR \n",
    "      pageview_info['page_title'] LIKE 'User_talk:%' OR \n",
    "      pageview_info['page_title'] LIKE 'User:%/sandbox' OR\n",
    "      pageview_info['page_title'] LIKE 'Special:Contributions%') \n",
    ") AS page_info\n",
    "Group BY header_name\n",
    "\""
   ]
  },
  {
   "cell_type": "code",
   "execution_count": 97,
   "metadata": {},
   "outputs": [],
   "source": [
    "header_views_loggedin_bylink_raw <- read.csv(file=\"Data/header_views_loggedin_bylink.tsv\", header=TRUE, sep= \"\\t\")"
   ]
  },
  {
   "cell_type": "code",
   "execution_count": 98,
   "metadata": {
    "scrolled": true
   },
   "outputs": [
    {
     "data": {
      "text/html": [
       "<table>\n",
       "<caption>A data.frame: 6 × 3</caption>\n",
       "<thead>\n",
       "\t<tr><th scope=col>n_user</th><th scope=col>header_name</th><th scope=col>user_pct</th></tr>\n",
       "\t<tr><th scope=col>&lt;int&gt;</th><th scope=col>&lt;fct&gt;</th><th scope=col>&lt;dbl&gt;</th></tr>\n",
       "</thead>\n",
       "<tbody>\n",
       "\t<tr><td>975</td><td>User                 </td><td>2.198669523</td></tr>\n",
       "\t<tr><td>866</td><td>Special:Contributions</td><td>1.952869546</td></tr>\n",
       "\t<tr><td>814</td><td>Special:Watchlist    </td><td>1.835607171</td></tr>\n",
       "\t<tr><td>767</td><td>User_talk            </td><td>1.729620025</td></tr>\n",
       "\t<tr><td> 51</td><td>Special:Preferences  </td><td>0.115007329</td></tr>\n",
       "\t<tr><td>  3</td><td>Special:UserLogout   </td><td>0.006765137</td></tr>\n",
       "</tbody>\n",
       "</table>\n"
      ],
      "text/latex": [
       "A data.frame: 6 × 3\n",
       "\\begin{tabular}{r|lll}\n",
       " n\\_user & header\\_name & user\\_pct\\\\\n",
       " <int> & <fct> & <dbl>\\\\\n",
       "\\hline\n",
       "\t 975 & User                  & 2.198669523\\\\\n",
       "\t 866 & Special:Contributions & 1.952869546\\\\\n",
       "\t 814 & Special:Watchlist     & 1.835607171\\\\\n",
       "\t 767 & User\\_talk             & 1.729620025\\\\\n",
       "\t  51 & Special:Preferences   & 0.115007329\\\\\n",
       "\t   3 & Special:UserLogout    & 0.006765137\\\\\n",
       "\\end{tabular}\n"
      ],
      "text/markdown": [
       "\n",
       "A data.frame: 6 × 3\n",
       "\n",
       "| n_user &lt;int&gt; | header_name &lt;fct&gt; | user_pct &lt;dbl&gt; |\n",
       "|---|---|---|\n",
       "| 975 | User                  | 2.198669523 |\n",
       "| 866 | Special:Contributions | 1.952869546 |\n",
       "| 814 | Special:Watchlist     | 1.835607171 |\n",
       "| 767 | User_talk             | 1.729620025 |\n",
       "|  51 | Special:Preferences   | 0.115007329 |\n",
       "|   3 | Special:UserLogout    | 0.006765137 |\n",
       "\n"
      ],
      "text/plain": [
       "  n_user header_name           user_pct   \n",
       "1 975    User                  2.198669523\n",
       "2 866    Special:Contributions 1.952869546\n",
       "3 814    Special:Watchlist     1.835607171\n",
       "4 767    User_talk             1.729620025\n",
       "5  51    Special:Preferences   0.115007329\n",
       "6   3    Special:UserLogout    0.006765137"
      ]
     },
     "metadata": {},
     "output_type": "display_data"
    }
   ],
   "source": [
    "header_views_loggedin_bylink <- header_views_loggedin_bylink_raw  %>%\n",
    "mutate(user_pct = as.numeric(n_user)/44345 *100) %>%\n",
    "arrange(desc(user_pct))\n",
    "\n",
    "header_views_loggedin_bylink"
   ]
  },
  {
   "cell_type": "markdown",
   "metadata": {},
   "source": [
    "## Language Links"
   ]
  },
  {
   "cell_type": "markdown",
   "metadata": {},
   "source": [
    "Data questions: what percentage of users use language links?\n",
    "\n",
    "Audiences: logged-in users, logged-out users\n",
    "\n",
    "Why this is relevant: currently you have to scroll in order to find the language links. We're wondering if a more prominent location, perhaps closer to the article context itself, would make it easier for users to find.\n",
    "\n",
    "Data Notes: Data from [wmf.interlaguage_navigation](https://wikitech.wikimedia.org/wiki/Analytics/Data_Lake/Traffic/Interlanguage). Includes data for all projects and from July 2019.\n",
    "\n",
    "Due to available intrumentation, I am unable to show %of users with available dataset but I can show % of project views instead. See below. "
   ]
  },
  {
   "cell_type": "code",
   "execution_count": 147,
   "metadata": {},
   "outputs": [],
   "source": [
    "#By project looking by the source of request (not target)\n",
    "query <- \n",
    "\"\n",
    "SELECT\n",
    "  navigation_count.project as project,\n",
    "  (navigation_count_total / view_count_total) *100 as percent_interlanguage_navigation\n",
    "FROM (\n",
    "SELECT \n",
    "    concat(previous_project, '.', project_family) as project,\n",
    "    sum(navigation_count) as navigation_count_total\n",
    "    from wmf.interlanguage_navigation\n",
    "    where date > '2019-06-31' \n",
    "    AND date < '2019-08-01'\n",
    "    group by project_family, previous_project\n",
    "        ) as navigation_count\n",
    "INNER JOIN\n",
    "(SELECT project,\n",
    "sum(view_count) as view_count_total\n",
    "FROM wmf.projectview_hourly\n",
    "WHERE concat(year, '-', lpad(month, 2, '0'), '-', lpad(day, 2, '0')) between '2019-06-31' and '2019-08-01'\n",
    "and access_method = 'desktop'\n",
    "and agent_type = 'user'\n",
    "group by project\n",
    ") as projectview \n",
    "on navigation_count.project = projectview.project\n",
    "ORDER by percent_interlanguage_navigation DESC LIMIT 5000\"\n"
   ]
  },
  {
   "cell_type": "code",
   "execution_count": 148,
   "metadata": {},
   "outputs": [],
   "source": [
    "interlanguage_clicks_byproject <- wmf::query_hive(query)"
   ]
  },
  {
   "cell_type": "code",
   "execution_count": 149,
   "metadata": {
    "scrolled": true
   },
   "outputs": [
    {
     "data": {
      "text/html": [
       "<table>\n",
       "<caption>A data.frame: 10 × 2</caption>\n",
       "<thead>\n",
       "\t<tr><th scope=col>project</th><th scope=col>percent_interlanguage_navigation</th></tr>\n",
       "\t<tr><th scope=col>&lt;chr&gt;</th><th scope=col>&lt;dbl&gt;</th></tr>\n",
       "</thead>\n",
       "<tbody>\n",
       "\t<tr><td>kg.wikipedia        </td><td>10.363773</td></tr>\n",
       "\t<tr><td>cv.wikipedia        </td><td> 9.953629</td></tr>\n",
       "\t<tr><td>gd.wikipedia        </td><td> 9.470999</td></tr>\n",
       "\t<tr><td>pa.wikipedia        </td><td> 9.375662</td></tr>\n",
       "\t<tr><td>zh-min-nan.wikipedia</td><td> 9.265733</td></tr>\n",
       "\t<tr><td>arc.wikipedia       </td><td> 9.254850</td></tr>\n",
       "\t<tr><td>ga.wikipedia        </td><td> 9.221888</td></tr>\n",
       "\t<tr><td>nap.wikipedia       </td><td> 9.097672</td></tr>\n",
       "\t<tr><td>ce.wikipedia        </td><td> 9.080891</td></tr>\n",
       "\t<tr><td>nv.wikipedia        </td><td> 9.037040</td></tr>\n",
       "</tbody>\n",
       "</table>\n"
      ],
      "text/latex": [
       "A data.frame: 10 × 2\n",
       "\\begin{tabular}{r|ll}\n",
       " project & percent\\_interlanguage\\_navigation\\\\\n",
       " <chr> & <dbl>\\\\\n",
       "\\hline\n",
       "\t kg.wikipedia         & 10.363773\\\\\n",
       "\t cv.wikipedia         &  9.953629\\\\\n",
       "\t gd.wikipedia         &  9.470999\\\\\n",
       "\t pa.wikipedia         &  9.375662\\\\\n",
       "\t zh-min-nan.wikipedia &  9.265733\\\\\n",
       "\t arc.wikipedia        &  9.254850\\\\\n",
       "\t ga.wikipedia         &  9.221888\\\\\n",
       "\t nap.wikipedia        &  9.097672\\\\\n",
       "\t ce.wikipedia         &  9.080891\\\\\n",
       "\t nv.wikipedia         &  9.037040\\\\\n",
       "\\end{tabular}\n"
      ],
      "text/markdown": [
       "\n",
       "A data.frame: 10 × 2\n",
       "\n",
       "| project &lt;chr&gt; | percent_interlanguage_navigation &lt;dbl&gt; |\n",
       "|---|---|\n",
       "| kg.wikipedia         | 10.363773 |\n",
       "| cv.wikipedia         |  9.953629 |\n",
       "| gd.wikipedia         |  9.470999 |\n",
       "| pa.wikipedia         |  9.375662 |\n",
       "| zh-min-nan.wikipedia |  9.265733 |\n",
       "| arc.wikipedia        |  9.254850 |\n",
       "| ga.wikipedia         |  9.221888 |\n",
       "| nap.wikipedia        |  9.097672 |\n",
       "| ce.wikipedia         |  9.080891 |\n",
       "| nv.wikipedia         |  9.037040 |\n",
       "\n"
      ],
      "text/plain": [
       "   project              percent_interlanguage_navigation\n",
       "1  kg.wikipedia         10.363773                       \n",
       "2  cv.wikipedia          9.953629                       \n",
       "3  gd.wikipedia          9.470999                       \n",
       "4  pa.wikipedia          9.375662                       \n",
       "5  zh-min-nan.wikipedia  9.265733                       \n",
       "6  arc.wikipedia         9.254850                       \n",
       "7  ga.wikipedia          9.221888                       \n",
       "8  nap.wikipedia         9.097672                       \n",
       "9  ce.wikipedia          9.080891                       \n",
       "10 nv.wikipedia          9.037040                       "
      ]
     },
     "metadata": {},
     "output_type": "display_data"
    }
   ],
   "source": [
    "head(interlanguage_clicks_byproject, 10)"
   ]
  },
  {
   "cell_type": "code",
   "execution_count": 153,
   "metadata": {},
   "outputs": [
    {
     "data": {
      "text/html": [
       "<table>\n",
       "<caption>A data.frame: 8 × 2</caption>\n",
       "<thead>\n",
       "\t<tr><th scope=col>project</th><th scope=col>percent_interlanguage_navigation</th></tr>\n",
       "\t<tr><th scope=col>&lt;chr&gt;</th><th scope=col>&lt;dbl&gt;</th></tr>\n",
       "</thead>\n",
       "<tbody>\n",
       "\t<tr><td>fr.wikipedia</td><td>0.3858005</td></tr>\n",
       "\t<tr><td>de.wikipedia</td><td>0.3707331</td></tr>\n",
       "\t<tr><td>it.wikipedia</td><td>0.3147767</td></tr>\n",
       "\t<tr><td>ja.wikipedia</td><td>0.2740005</td></tr>\n",
       "\t<tr><td>zh.wikipedia</td><td>0.2383240</td></tr>\n",
       "\t<tr><td>en.wikipedia</td><td>0.2179289</td></tr>\n",
       "\t<tr><td>es.wikipedia</td><td>0.2024851</td></tr>\n",
       "\t<tr><td>ru.wikipedia</td><td>0.1820905</td></tr>\n",
       "</tbody>\n",
       "</table>\n"
      ],
      "text/latex": [
       "A data.frame: 8 × 2\n",
       "\\begin{tabular}{r|ll}\n",
       " project & percent\\_interlanguage\\_navigation\\\\\n",
       " <chr> & <dbl>\\\\\n",
       "\\hline\n",
       "\t fr.wikipedia & 0.3858005\\\\\n",
       "\t de.wikipedia & 0.3707331\\\\\n",
       "\t it.wikipedia & 0.3147767\\\\\n",
       "\t ja.wikipedia & 0.2740005\\\\\n",
       "\t zh.wikipedia & 0.2383240\\\\\n",
       "\t en.wikipedia & 0.2179289\\\\\n",
       "\t es.wikipedia & 0.2024851\\\\\n",
       "\t ru.wikipedia & 0.1820905\\\\\n",
       "\\end{tabular}\n"
      ],
      "text/markdown": [
       "\n",
       "A data.frame: 8 × 2\n",
       "\n",
       "| project &lt;chr&gt; | percent_interlanguage_navigation &lt;dbl&gt; |\n",
       "|---|---|\n",
       "| fr.wikipedia | 0.3858005 |\n",
       "| de.wikipedia | 0.3707331 |\n",
       "| it.wikipedia | 0.3147767 |\n",
       "| ja.wikipedia | 0.2740005 |\n",
       "| zh.wikipedia | 0.2383240 |\n",
       "| en.wikipedia | 0.2179289 |\n",
       "| es.wikipedia | 0.2024851 |\n",
       "| ru.wikipedia | 0.1820905 |\n",
       "\n"
      ],
      "text/plain": [
       "  project      percent_interlanguage_navigation\n",
       "1 fr.wikipedia 0.3858005                       \n",
       "2 de.wikipedia 0.3707331                       \n",
       "3 it.wikipedia 0.3147767                       \n",
       "4 ja.wikipedia 0.2740005                       \n",
       "5 zh.wikipedia 0.2383240                       \n",
       "6 en.wikipedia 0.2179289                       \n",
       "7 es.wikipedia 0.2024851                       \n",
       "8 ru.wikipedia 0.1820905                       "
      ]
     },
     "metadata": {},
     "output_type": "display_data"
    }
   ],
   "source": [
    "#Views for top sized_wikis\n",
    "interlanguage_clicks_byproject_topwikis <- interlanguage_clicks_byproject %>%\n",
    " filter(project %in% c('en.wikipedia', 'es.wikipedia', 'de.wikipedia', 'ja.wikipedia',\n",
    "                    'fr.wikipedia', 'ru.wikipedia', 'it.wikipedia', 'zh.wikipedia')) %>%\n",
    "  arrange(desc(percent_interlanguage_navigation))\n",
    "\n",
    "interlanguage_clicks_byproject_topwikis\n"
   ]
  },
  {
   "cell_type": "code",
   "execution_count": 133,
   "metadata": {},
   "outputs": [],
   "source": [
    "#overall across all projects\n",
    "query <- \n",
    "\"\n",
    "SELECT\n",
    "  SUM(navigation_count_total) as navigation_count_total,\n",
    "  SUM(view_count_total) as view_count_total\n",
    "FROM (\n",
    "SELECT \n",
    "    concat(previous_project, '.', project_family) as project,\n",
    "    sum(navigation_count) as navigation_count_total\n",
    "FROM wmf.interlanguage_navigation\n",
    "WHERE date >= '2019-07-01' \n",
    "    AND date <= '2019-07-31'\n",
    "    group by project_family, previous_project\n",
    "    ) as navigation_count\n",
    "INNER JOIN\n",
    "(\n",
    "SELECT project,\n",
    "  sum(view_count) as view_count_total\n",
    "FROM wmf.projectview_hourly\n",
    "WHERE \n",
    "  concat(year, '-', lpad(month, 2, '0'), '-', lpad(day, 2, '0')) between '2019-07-01' and '2019-07-31'\n",
    "  and access_method = 'desktop'\n",
    "  and agent_type = 'user'\n",
    "  group by project\n",
    ") as projectview\n",
    "on navigation_count.project = projectview.project\""
   ]
  },
  {
   "cell_type": "code",
   "execution_count": 134,
   "metadata": {},
   "outputs": [],
   "source": [
    "interlanguage_clicks_overall <- wmf::query_hive(query)"
   ]
  },
  {
   "cell_type": "code",
   "execution_count": 135,
   "metadata": {},
   "outputs": [
    {
     "data": {
      "text/html": [
       "<table>\n",
       "<caption>A data.frame: 1 × 2</caption>\n",
       "<thead>\n",
       "\t<tr><th scope=col>navigation_count_total</th><th scope=col>view_count_total</th></tr>\n",
       "\t<tr><th scope=col>&lt;int&gt;</th><th scope=col>&lt;dbl&gt;</th></tr>\n",
       "</thead>\n",
       "<tbody>\n",
       "\t<tr><td>23948360</td><td>6166994793</td></tr>\n",
       "</tbody>\n",
       "</table>\n"
      ],
      "text/latex": [
       "A data.frame: 1 × 2\n",
       "\\begin{tabular}{r|ll}\n",
       " navigation\\_count\\_total & view\\_count\\_total\\\\\n",
       " <int> & <dbl>\\\\\n",
       "\\hline\n",
       "\t 23948360 & 6166994793\\\\\n",
       "\\end{tabular}\n"
      ],
      "text/markdown": [
       "\n",
       "A data.frame: 1 × 2\n",
       "\n",
       "| navigation_count_total &lt;int&gt; | view_count_total &lt;dbl&gt; |\n",
       "|---|---|\n",
       "| 23948360 | 6166994793 |\n",
       "\n"
      ],
      "text/plain": [
       "  navigation_count_total view_count_total\n",
       "1 23948360               6166994793      "
      ]
     },
     "metadata": {},
     "output_type": "display_data"
    }
   ],
   "source": [
    "interlanguage_clicks_overall"
   ]
  },
  {
   "cell_type": "markdown",
   "metadata": {},
   "source": [
    "About 0.39% of all pageviews from desktop are interlanguage navigation. "
   ]
  },
  {
   "cell_type": "markdown",
   "metadata": {},
   "source": [
    "## Table of contents\n",
    "\n",
    "Table of Contents clicks are not recorded by the client or server side. I'll do a little more asking with the team to confirm if there is a way to use the uri_path. "
   ]
  }
 ],
 "metadata": {
  "celltoolbar": "Raw Cell Format",
  "kernelspec": {
   "display_name": "R",
   "language": "R",
   "name": "ir"
  },
  "language_info": {
   "codemirror_mode": "r",
   "file_extension": ".r",
   "mimetype": "text/x-r-source",
   "name": "R",
   "pygments_lexer": "r",
   "version": "3.3.3"
  }
 },
 "nbformat": 4,
 "nbformat_minor": 2
}
